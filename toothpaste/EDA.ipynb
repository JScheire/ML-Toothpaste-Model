{
 "cells": [
  {
   "cell_type": "code",
   "execution_count": 1,
   "metadata": {},
   "outputs": [],
   "source": [
    "import pandas as pd\n",
    "import numpy as np\n",
    "import sklearn as sk\n",
    "\n",
    "%matplotlib inline\n",
    "import matplotlib.pyplot as plt"
   ]
  },
  {
   "cell_type": "code",
   "execution_count": 3,
   "metadata": {},
   "outputs": [
    {
     "name": "stdout",
     "output_type": "stream",
     "text": [
      "(14847, 7)\n"
     ]
    },
    {
     "data": {
      "text/html": [
       "<div>\n",
       "<style scoped>\n",
       "    .dataframe tbody tr th:only-of-type {\n",
       "        vertical-align: middle;\n",
       "    }\n",
       "\n",
       "    .dataframe tbody tr th {\n",
       "        vertical-align: top;\n",
       "    }\n",
       "\n",
       "    .dataframe thead th {\n",
       "        text-align: right;\n",
       "    }\n",
       "</style>\n",
       "<table border=\"1\" class=\"dataframe\">\n",
       "  <thead>\n",
       "    <tr style=\"text-align: right;\">\n",
       "      <th></th>\n",
       "      <th>Unnamed: 0</th>\n",
       "      <th>country</th>\n",
       "      <th>company</th>\n",
       "      <th>total_pack_size_ml_g</th>\n",
       "      <th>unit_pack_size_ml_g</th>\n",
       "      <th>price_per_100g_ml_dollars</th>\n",
       "      <th>ingredients</th>\n",
       "    </tr>\n",
       "  </thead>\n",
       "  <tbody>\n",
       "    <tr>\n",
       "      <td>0</td>\n",
       "      <td>0</td>\n",
       "      <td>Vietnam</td>\n",
       "      <td>Brand 0</td>\n",
       "      <td>130.0</td>\n",
       "      <td>130.0</td>\n",
       "      <td>0.32</td>\n",
       "      <td>CI 77220, Aqua, Sorbitol, Hydrated Silica (Hyd...</td>\n",
       "    </tr>\n",
       "    <tr>\n",
       "      <td>1</td>\n",
       "      <td>1</td>\n",
       "      <td>Brazil</td>\n",
       "      <td>Brand 1</td>\n",
       "      <td>90.0</td>\n",
       "      <td>90.0</td>\n",
       "      <td>1.22</td>\n",
       "      <td>active ingredient: sodium monofluorophosphate ...</td>\n",
       "    </tr>\n",
       "    <tr>\n",
       "      <td>2</td>\n",
       "      <td>2</td>\n",
       "      <td>Vietnam</td>\n",
       "      <td>Brand 2</td>\n",
       "      <td>120.0</td>\n",
       "      <td>120.0</td>\n",
       "      <td>1.26</td>\n",
       "      <td>Sodium Fluoride CI 47005, Blue 1, flavor, Came...</td>\n",
       "    </tr>\n",
       "  </tbody>\n",
       "</table>\n",
       "</div>"
      ],
      "text/plain": [
       "   Unnamed: 0  country  company  total_pack_size_ml_g  unit_pack_size_ml_g  \\\n",
       "0           0  Vietnam  Brand 0                 130.0                130.0   \n",
       "1           1   Brazil  Brand 1                  90.0                 90.0   \n",
       "2           2  Vietnam  Brand 2                 120.0                120.0   \n",
       "\n",
       "   price_per_100g_ml_dollars  \\\n",
       "0                       0.32   \n",
       "1                       1.22   \n",
       "2                       1.26   \n",
       "\n",
       "                                         ingredients  \n",
       "0  CI 77220, Aqua, Sorbitol, Hydrated Silica (Hyd...  \n",
       "1  active ingredient: sodium monofluorophosphate ...  \n",
       "2  Sodium Fluoride CI 47005, Blue 1, flavor, Came...  "
      ]
     },
     "execution_count": 3,
     "metadata": {},
     "output_type": "execute_result"
    }
   ],
   "source": [
    "data = pd.read_csv('data.csv')\n",
    "print(data.shape)\n",
    "data.head(3)"
   ]
  },
  {
   "cell_type": "code",
   "execution_count": 7,
   "metadata": {},
   "outputs": [
    {
     "name": "stdout",
     "output_type": "stream",
     "text": [
      "86 unique countries\n",
      "1916 unique brands\n"
     ]
    }
   ],
   "source": [
    "print('%s unique countries' % len(data['country'].unique()))\n",
    "print('%s unique brands' % len(data['company'].unique()))"
   ]
  },
  {
   "cell_type": "code",
   "execution_count": null,
   "metadata": {},
   "outputs": [],
   "source": []
  }
 ],
 "metadata": {
  "kernelspec": {
   "display_name": "Python 3",
   "language": "python",
   "name": "python3"
  },
  "language_info": {
   "codemirror_mode": {
    "name": "ipython",
    "version": 3
   },
   "file_extension": ".py",
   "mimetype": "text/x-python",
   "name": "python",
   "nbconvert_exporter": "python",
   "pygments_lexer": "ipython3",
   "version": "3.7.4"
  }
 },
 "nbformat": 4,
 "nbformat_minor": 2
}
